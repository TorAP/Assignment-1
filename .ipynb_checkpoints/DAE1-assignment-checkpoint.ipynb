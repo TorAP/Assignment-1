{
 "cells": [
  {
   "cell_type": "markdown",
   "metadata": {},
   "source": [
    "# ---\n",
    "title: 'DAE 1 Setting up an experiment'\n",
    "author:\n",
    "- |\n",
    "    Sofia Dahl\\\n",
    "    Dept. Architecture, Design and Media Technology, Aalborg University\n",
    "    Copenhagen\n",
    "\n",
    "---\n",
    "\n",
    "Variables and Measurement Scales\n",
    "================================\n",
    "\n",
    "A variable is something that can take at lease two values. The\n",
    "*INDEPENDENT* variable is something that is controlled and manipulated\n",
    "by the experimenter in order to create different conditions for the\n",
    "experiment. The aim is to see if there if these manipulations have an\n",
    "effect on the *DEPENDENT* variable (which is the one to be measured).\n",
    "\n",
    "The dependent variable can be measured using different scales. The data\n",
    "collected can be numerical or categorical, and different kinds of\n",
    "measurement scales calls for different kinds of analysis methods. That\n",
    "is, depending on the question one might be more suitable to use than the\n",
    "other.\n",
    "\n",
    "Nominal:   When there is not a natural ordering of the categories. Examples\n",
    "    might be categorization of gender, race, religion, or type of sport.\n",
    "\n",
    "Ordinal:   When the categories can be ordered. Categorical variables that judge\n",
    "    size (small, medium, large, etc.) are ordinal variables. However,\n",
    "    the difference between small and medium is not necessarily the same\n",
    "    as the difference between medium and large.\n",
    "\n",
    "Interval:   In an interval scale, the numbers are meaningful. That is, the\n",
    "    difference between scale values are equidistant. However, zero is by\n",
    "    convention and *doubling* is also not really meaningful (50 degrees\n",
    "    is not half as hot as 100 degrees Celsius).\n",
    "\n",
    "Ratio:   A scale that has a meaningful zero value and equidistant measure:\n",
    "    doubling principle (10 yrs is twice as old than 5 yr).\n",
    "  "
   ]
  },
  {
   "cell_type": "markdown",
   "metadata": {},
   "source": [
    "  \n",
    "Looking at data\n",
    "===============\n",
    "    \n",
    "For the and separate the two groups (audio and audiovisual). Plot pairs\n",
    "of histograms comparing the distribution of ratings (SKILL, QUALITY, AND\n",
    "PLEASURE) for the two groups.\n",
    "\n",
    "(a) Does the data seem to be symmetrically distributed?\n",
    "\n",
    "(b) Does the data points spread out in a similar way across groups and\n",
    "    rating scales?\n",
    "    \n",
    "   "
   ]
  },
  {
   "cell_type": "code",
   "execution_count": 3,
   "metadata": {},
   "outputs": [
    {
     "name": "stdout",
     "output_type": "stream",
     "text": [
      "[25, 35, 75, 80, 80, 89, 90, 20, 33, 43, 26, 74, 24, 25, 78, 47]\n"
     ]
    },
    {
     "data": {
      "image/png": "[encoded data removed]",
      "text/plain": [
       "<Figure size 432x288 with 1 Axes>"
      ]
     },
     "metadata": {
      "needs_background": "light"
     },
     "output_type": "display_data"
    }
   ],
   "source": [
    "# To use the statistics module, import into your program\n",
    "import statistics\n",
    "\n",
    "# We also want to plot graphs and histograms\n",
    "# using matplotlib\n",
    "import matplotlib.pyplot as plt\n",
    "import numpy as np\n",
    "import pandas as pd\n",
    "\n",
    "# This allows the histogram\n",
    "# to appear after running the code\n",
    "%matplotlib inline\n",
    "\n",
    "# Read data\n",
    "some_data = [25, 35, 75, 80, 80, 89, 90, 20, 33, 43, 26, 74, 24, 25,78, 47,]\n",
    "print(some_data)\n",
    "#print(some_data.T)\n",
    "\n",
    "# plot histogram\n",
    "plt.hist(some_data, bins = 10)\n",
    "plt.title('Some data Histogram')\n",
    "plt.show()\n"
   ]
  },
  {
   "cell_type": "code",
   "execution_count": 59,
   "metadata": {},
   "outputs": [
    {
     "name": "stdout",
     "output_type": "stream",
     "text": [
      "The mean is 52.75\n"
     ]
    }
   ],
   "source": [
    "# find the mean\n",
    "my_list_mean = statistics.mean(some_data)\n",
    "print(\"The mean is\", my_list_mean)"
   ]
  },
  {
   "cell_type": "code",
   "execution_count": 58,
   "metadata": {},
   "outputs": [
    {
     "name": "stdout",
     "output_type": "stream",
     "text": [
      "The median is 45.0\n"
     ]
    }
   ],
   "source": [
    "my_list_median = statistics.median(some_data)\n",
    "print(\"The median is\", my_list_median) "
   ]
  },
  {
   "cell_type": "markdown",
   "metadata": {},
   "source": [
    "Listening test data\n",
    "===============\n",
    "Now you can do the same analysis for the data from the listening test that you participated in. \n",
    "\n",
    "Import the data and separate the two groups (audio and audiovisual). "
   ]
  },
  {
   "cell_type": "code",
   "execution_count": 5,
   "metadata": {},
   "outputs": [],
   "source": [
    "#code to import excel data file\n",
    "import pandas as pd\n",
    "#from pandas import ExcelWriter\n",
    "#from pandas import ExcelFile\n",
    "\n",
    "# df is our name for DataFrame structure from pandas. We can chose whatever name we wish.\n",
    "\n",
    "# For reading excel file, use: \n",
    "# df = pd.read_excel('DAE1outputdata.xlsx')  \n",
    "\n",
    "# For reading comma-separated files (.CSV) use:\n",
    "df = pd.read_csv('DAE1outputdataCSV.csv')\n",
    "\n",
    "# For reading tab-separated txt files, use:\n",
    "# df = pd.read_csv('DAE1otputdataTAB.txt, delimeter='\\t') \n",
    "\n",
    "# for reading .txt files separated by whatever string, just use that string instead of \\t in the previous comand\n",
    "\n"
   ]
  },
  {
   "cell_type": "code",
   "execution_count": null,
   "metadata": {},
   "outputs": [],
   "source": [
    "# Chech what we have read:\n",
    "print(\"Column headings:\")\n",
    "\n"
   ]
  },
  {
   "cell_type": "code",
   "execution_count": 21,
   "metadata": {},
   "outputs": [
    {
     "data": {
      "text/html": [
       "<div>\n",
       "<style scoped>\n",
       "    .dataframe tbody tr th:only-of-type {\n",
       "        vertical-align: middle;\n",
       "    }\n",
       "\n",
       "    .dataframe tbody tr th {\n",
       "        vertical-align: top;\n",
       "    }\n",
       "\n",
       "    .dataframe thead th {\n",
       "        text-align: right;\n",
       "    }\n",
       "</style>\n",
       "<table border=\"1\" class=\"dataframe\">\n",
       "  <thead>\n",
       "    <tr style=\"text-align: right;\">\n",
       "      <th></th>\n",
       "      <th>SKILL</th>\n",
       "      <th>QUALITY</th>\n",
       "      <th>PLEASANTNESS</th>\n",
       "    </tr>\n",
       "  </thead>\n",
       "  <tbody>\n",
       "    <tr>\n",
       "      <td>count</td>\n",
       "      <td>41.000000</td>\n",
       "      <td>41.000000</td>\n",
       "      <td>41.000000</td>\n",
       "    </tr>\n",
       "    <tr>\n",
       "      <td>mean</td>\n",
       "      <td>70.682927</td>\n",
       "      <td>46.926829</td>\n",
       "      <td>65.243902</td>\n",
       "    </tr>\n",
       "    <tr>\n",
       "      <td>std</td>\n",
       "      <td>18.913539</td>\n",
       "      <td>24.764279</td>\n",
       "      <td>22.429646</td>\n",
       "    </tr>\n",
       "    <tr>\n",
       "      <td>min</td>\n",
       "      <td>30.000000</td>\n",
       "      <td>0.000000</td>\n",
       "      <td>11.000000</td>\n",
       "    </tr>\n",
       "    <tr>\n",
       "      <td>25%</td>\n",
       "      <td>59.000000</td>\n",
       "      <td>30.000000</td>\n",
       "      <td>51.000000</td>\n",
       "    </tr>\n",
       "    <tr>\n",
       "      <td>50%</td>\n",
       "      <td>71.000000</td>\n",
       "      <td>40.000000</td>\n",
       "      <td>70.000000</td>\n",
       "    </tr>\n",
       "    <tr>\n",
       "      <td>75%</td>\n",
       "      <td>85.000000</td>\n",
       "      <td>64.000000</td>\n",
       "      <td>83.000000</td>\n",
       "    </tr>\n",
       "    <tr>\n",
       "      <td>max</td>\n",
       "      <td>100.000000</td>\n",
       "      <td>100.000000</td>\n",
       "      <td>97.000000</td>\n",
       "    </tr>\n",
       "  </tbody>\n",
       "</table>\n",
       "</div>"
      ],
      "text/plain": [
       "            SKILL     QUALITY  PLEASANTNESS\n",
       "count   41.000000   41.000000     41.000000\n",
       "mean    70.682927   46.926829     65.243902\n",
       "std     18.913539   24.764279     22.429646\n",
       "min     30.000000    0.000000     11.000000\n",
       "25%     59.000000   30.000000     51.000000\n",
       "50%     71.000000   40.000000     70.000000\n",
       "75%     85.000000   64.000000     83.000000\n",
       "max    100.000000  100.000000     97.000000"
      ]
     },
     "execution_count": 21,
     "metadata": {},
     "output_type": "execute_result"
    }
   ],
   "source": [
    "#To get basic statistics for numerical data in df, like: number of elements, mean, standard deviation, min and max value, as well as 25%, 50% and 75% quartiles, use:\n",
    "\n",
    "df.describe()\n",
    "\n",
    "\n"
   ]
  },
  {
   "cell_type": "code",
   "execution_count": 30,
   "metadata": {},
   "outputs": [
    {
     "data": {
      "text/plain": [
       "[<matplotlib.lines.Line2D at 0x120aa5cad48>]"
      ]
     },
     "execution_count": 30,
     "metadata": {},
     "output_type": "execute_result"
    },
    {
     "data": {
      "image/png": "[encoded data removed]",
      "text/plain": [
       "<Figure size 432x288 with 1 Axes>"
      ]
     },
     "metadata": {
      "needs_background": "light"
     },
     "output_type": "display_data"
    }
   ],
   "source": [
    "# to plot a column:\n",
    "plt.plot(df.SKILL)\n",
    "\n"
   ]
  },
  {
   "cell_type": "code",
   "execution_count": 8,
   "metadata": {},
   "outputs": [
    {
     "data": {
      "image/png": "[encoded data removed]",
      "text/plain": [
       "<Figure size 432x288 with 1 Axes>"
      ]
     },
     "metadata": {
      "needs_background": "light"
     },
     "output_type": "display_data"
    }
   ],
   "source": [
    "# filtering part of the column - separting data for audio only and audiovisual feedback:\n",
    "\n",
    "plt.hist(df.loc[df['GROUP']=='audio'].SKILL, bins=10)\n",
    "plt.ylabel('perceived SKILL')\n",
    "plt.title('Audio feedback only')\n",
    "#plt.show()  # uncomment if you want two separate histograms\n",
    "\n",
    "\n",
    "\n",
    "plt.hist(df.loc[df['GROUP']=='audiovisual'].SKILL, bins=10)\n",
    "plt.ylabel('perceived SKILL')\n",
    "plt.title('Audiovisual feedback')\n",
    "plt.show()  \n",
    "\n",
    "\n",
    "# to view headers:\n",
    "#print(df.columns)\n",
    "\n",
    "# to get help on anything in Python:\n",
    "#help(pd.DataFrame)  # Capital letters are important in Python. \n",
    "#print(df)\n",
    "\n"
   ]
  },
  {
   "cell_type": "code",
   "execution_count": 28,
   "metadata": {},
   "outputs": [
    {
     "name": "stdout",
     "output_type": "stream",
     "text": [
      "              MEAN values\n",
      "                 SKILL    QUALITY  PLEASANTNESS\n",
      "GROUP                                          \n",
      "audio        69.736842  44.157895     60.631579\n",
      "audiovisual  71.500000  49.318182     69.227273\n",
      "________________________________________________________________________________\n",
      "              MEDIAN values\n",
      "             SKILL  QUALITY  PLEASANTNESS\n",
      "GROUP                                    \n",
      "audio         72.0     38.0          63.0\n",
      "audiovisual   70.5     41.0          72.5\n",
      "________________________________________________________________________________\n",
      "              Number of data points\n",
      "             SKILL  QUALITY  PLEASANTNESS\n",
      "GROUP                                    \n",
      "audio           19       19            19\n",
      "audiovisual     22       22            22\n"
     ]
    }
   ],
   "source": [
    "\n",
    "group_by_audio = df.groupby(by=['GROUP'])\n",
    "ga=group_by_audio\n",
    "\n",
    "ga_avg = group_by_audio.mean()\n",
    "ga_median=group_by_audio.median()\n",
    "ga_count = group_by_audio.count()\n",
    "\n",
    "print('              MEAN values')\n",
    "print(ga_avg)\n",
    "print(80*'_')\n",
    "print('              MEDIAN values')\n",
    "print(ga_median)\n",
    "print(80*'_')\n",
    "print('              Number of data points')\n",
    "print(ga_count)\n"
   ]
  },
  {
   "cell_type": "code",
   "execution_count": 29,
   "metadata": {},
   "outputs": [
    {
     "name": "stdout",
     "output_type": "stream",
     "text": [
      "audio\n"
     ]
    },
    {
     "data": {
      "text/html": [
       "<div>\n",
       "<style scoped>\n",
       "    .dataframe tbody tr th:only-of-type {\n",
       "        vertical-align: middle;\n",
       "    }\n",
       "\n",
       "    .dataframe tbody tr th {\n",
       "        vertical-align: top;\n",
       "    }\n",
       "\n",
       "    .dataframe thead th {\n",
       "        text-align: right;\n",
       "    }\n",
       "</style>\n",
       "<table border=\"1\" class=\"dataframe\">\n",
       "  <thead>\n",
       "    <tr style=\"text-align: right;\">\n",
       "      <th></th>\n",
       "      <th>SKILL</th>\n",
       "      <th>QUALITY</th>\n",
       "      <th>PLEASANTNESS</th>\n",
       "    </tr>\n",
       "  </thead>\n",
       "  <tbody>\n",
       "    <tr>\n",
       "      <td>count</td>\n",
       "      <td>19.000000</td>\n",
       "      <td>19.000000</td>\n",
       "      <td>19.000000</td>\n",
       "    </tr>\n",
       "    <tr>\n",
       "      <td>mean</td>\n",
       "      <td>69.736842</td>\n",
       "      <td>44.157895</td>\n",
       "      <td>60.631579</td>\n",
       "    </tr>\n",
       "    <tr>\n",
       "      <td>std</td>\n",
       "      <td>19.840593</td>\n",
       "      <td>27.645098</td>\n",
       "      <td>24.549747</td>\n",
       "    </tr>\n",
       "    <tr>\n",
       "      <td>min</td>\n",
       "      <td>30.000000</td>\n",
       "      <td>0.000000</td>\n",
       "      <td>11.000000</td>\n",
       "    </tr>\n",
       "    <tr>\n",
       "      <td>25%</td>\n",
       "      <td>57.000000</td>\n",
       "      <td>22.000000</td>\n",
       "      <td>44.500000</td>\n",
       "    </tr>\n",
       "    <tr>\n",
       "      <td>50%</td>\n",
       "      <td>72.000000</td>\n",
       "      <td>38.000000</td>\n",
       "      <td>63.000000</td>\n",
       "    </tr>\n",
       "    <tr>\n",
       "      <td>75%</td>\n",
       "      <td>84.000000</td>\n",
       "      <td>53.500000</td>\n",
       "      <td>79.000000</td>\n",
       "    </tr>\n",
       "    <tr>\n",
       "      <td>max</td>\n",
       "      <td>100.000000</td>\n",
       "      <td>100.000000</td>\n",
       "      <td>97.000000</td>\n",
       "    </tr>\n",
       "  </tbody>\n",
       "</table>\n",
       "</div>"
      ],
      "text/plain": [
       "            SKILL     QUALITY  PLEASANTNESS\n",
       "count   19.000000   19.000000     19.000000\n",
       "mean    69.736842   44.157895     60.631579\n",
       "std     19.840593   27.645098     24.549747\n",
       "min     30.000000    0.000000     11.000000\n",
       "25%     57.000000   22.000000     44.500000\n",
       "50%     72.000000   38.000000     63.000000\n",
       "75%     84.000000   53.500000     79.000000\n",
       "max    100.000000  100.000000     97.000000"
      ]
     },
     "execution_count": 29,
     "metadata": {},
     "output_type": "execute_result"
    }
   ],
   "source": [
    "\n",
    "# alternative way to get statistics:\n",
    "print('audio')\n",
    "df.loc[df['GROUP']=='audio'].describe()\n",
    "\n",
    "\n"
   ]
  },
  {
   "cell_type": "code",
   "execution_count": 30,
   "metadata": {},
   "outputs": [
    {
     "name": "stdout",
     "output_type": "stream",
     "text": [
      "audiovisual\n"
     ]
    },
    {
     "data": {
      "text/html": [
       "<div>\n",
       "<style scoped>\n",
       "    .dataframe tbody tr th:only-of-type {\n",
       "        vertical-align: middle;\n",
       "    }\n",
       "\n",
       "    .dataframe tbody tr th {\n",
       "        vertical-align: top;\n",
       "    }\n",
       "\n",
       "    .dataframe thead th {\n",
       "        text-align: right;\n",
       "    }\n",
       "</style>\n",
       "<table border=\"1\" class=\"dataframe\">\n",
       "  <thead>\n",
       "    <tr style=\"text-align: right;\">\n",
       "      <th></th>\n",
       "      <th>SKILL</th>\n",
       "      <th>QUALITY</th>\n",
       "      <th>PLEASANTNESS</th>\n",
       "    </tr>\n",
       "  </thead>\n",
       "  <tbody>\n",
       "    <tr>\n",
       "      <td>count</td>\n",
       "      <td>22.000000</td>\n",
       "      <td>22.000000</td>\n",
       "      <td>22.000000</td>\n",
       "    </tr>\n",
       "    <tr>\n",
       "      <td>mean</td>\n",
       "      <td>71.500000</td>\n",
       "      <td>49.318182</td>\n",
       "      <td>69.227273</td>\n",
       "    </tr>\n",
       "    <tr>\n",
       "      <td>std</td>\n",
       "      <td>18.505469</td>\n",
       "      <td>22.363632</td>\n",
       "      <td>20.144553</td>\n",
       "    </tr>\n",
       "    <tr>\n",
       "      <td>min</td>\n",
       "      <td>40.000000</td>\n",
       "      <td>20.000000</td>\n",
       "      <td>30.000000</td>\n",
       "    </tr>\n",
       "    <tr>\n",
       "      <td>25%</td>\n",
       "      <td>60.000000</td>\n",
       "      <td>30.000000</td>\n",
       "      <td>61.250000</td>\n",
       "    </tr>\n",
       "    <tr>\n",
       "      <td>50%</td>\n",
       "      <td>70.500000</td>\n",
       "      <td>41.000000</td>\n",
       "      <td>72.500000</td>\n",
       "    </tr>\n",
       "    <tr>\n",
       "      <td>75%</td>\n",
       "      <td>88.750000</td>\n",
       "      <td>64.750000</td>\n",
       "      <td>87.500000</td>\n",
       "    </tr>\n",
       "    <tr>\n",
       "      <td>max</td>\n",
       "      <td>100.000000</td>\n",
       "      <td>100.000000</td>\n",
       "      <td>95.000000</td>\n",
       "    </tr>\n",
       "  </tbody>\n",
       "</table>\n",
       "</div>"
      ],
      "text/plain": [
       "            SKILL     QUALITY  PLEASANTNESS\n",
       "count   22.000000   22.000000     22.000000\n",
       "mean    71.500000   49.318182     69.227273\n",
       "std     18.505469   22.363632     20.144553\n",
       "min     40.000000   20.000000     30.000000\n",
       "25%     60.000000   30.000000     61.250000\n",
       "50%     70.500000   41.000000     72.500000\n",
       "75%     88.750000   64.750000     87.500000\n",
       "max    100.000000  100.000000     95.000000"
      ]
     },
     "execution_count": 30,
     "metadata": {},
     "output_type": "execute_result"
    }
   ],
   "source": [
    "print('audiovisual')\n",
    "df.loc[df['GROUP']=='audiovisual'].describe()\n"
   ]
  },
  {
   "cell_type": "code",
   "execution_count": 14,
   "metadata": {},
   "outputs": [
    {
     "name": "stdout",
     "output_type": "stream",
     "text": [
      "         GROUP  SKILL  QUALITY  PLEASANTNESS\n",
      "0        audio     83       37            61\n",
      "1  audiovisual     40       30            80\n",
      "2        audio     93       23            75\n",
      "3        audio     60       40            31\n"
     ]
    }
   ],
   "source": [
    "# print first 4 rows:\n",
    "print(df.head(4))"
   ]
  },
  {
   "cell_type": "code",
   "execution_count": 15,
   "metadata": {},
   "outputs": [
    {
     "name": "stdout",
     "output_type": "stream",
     "text": [
      "GROUP           audio\n",
      "SKILL              93\n",
      "QUALITY            23\n",
      "PLEASANTNESS       75\n",
      "Name: 2, dtype: object\n"
     ]
    }
   ],
   "source": [
    "# To print a specific row, use iloc (integer location) method:\n",
    "print(df.iloc[2])"
   ]
  },
  {
   "cell_type": "code",
   "execution_count": 19,
   "metadata": {},
   "outputs": [
    {
     "name": "stdout",
     "output_type": "stream",
     "text": [
      "   GROUP  SKILL  QUALITY  PLEASANTNESS\n",
      "2  audio     60       40            31\n",
      "3  audio     47       16            20\n",
      "4  audio     59       59            70\n",
      "5  audio     77       34            63\n",
      "6  audio     30       21            51\n"
     ]
    }
   ],
   "source": [
    "# To print multiple rows, use iloc (integer location) method:\n",
    "print(df.iloc[2:7])"
   ]
  },
  {
   "cell_type": "code",
   "execution_count": 7,
   "metadata": {},
   "outputs": [
    {
     "name": "stdout",
     "output_type": "stream",
     "text": [
      "75\n"
     ]
    }
   ],
   "source": [
    "# To print a specific element, use:\n",
    "print(df.iloc[2,3])"
   ]
  },
  {
   "cell_type": "code",
   "execution_count": 28,
   "metadata": {},
   "outputs": [
    {
     "name": "stdout",
     "output_type": "stream",
     "text": [
      "0 83\n",
      "1 40\n",
      "2 93\n",
      "3 60\n",
      "4 47\n",
      "5 59\n",
      "6 77\n",
      "7 30\n",
      "8 75\n",
      "9 86\n",
      "10 100\n",
      "11 71\n",
      "12 85\n",
      "13 75\n",
      "14 55\n",
      "15 47\n",
      "16 70\n",
      "17 40\n",
      "18 72\n",
      "19 84\n",
      "20 92\n",
      "21 100\n",
      "22 40\n",
      "23 65\n",
      "24 50\n",
      "25 50\n",
      "26 90\n",
      "27 80\n",
      "28 60\n",
      "29 50\n",
      "30 95\n",
      "31 92\n",
      "32 60\n",
      "33 70\n",
      "34 69\n",
      "35 85\n",
      "36 80\n",
      "37 100\n",
      "38 71\n",
      "39 60\n",
      "40 90\n"
     ]
    }
   ],
   "source": [
    "# iteration through rows:\n",
    "for counter, row in df.iterrows():\n",
    "   print(counter, row['SKILL'])\n",
    "    \n",
    "    "
   ]
  },
  {
   "cell_type": "code",
   "execution_count": 27,
   "metadata": {},
   "outputs": [
    {
     "data": {
      "text/html": [
       "<div>\n",
       "<style scoped>\n",
       "    .dataframe tbody tr th:only-of-type {\n",
       "        vertical-align: middle;\n",
       "    }\n",
       "\n",
       "    .dataframe tbody tr th {\n",
       "        vertical-align: top;\n",
       "    }\n",
       "\n",
       "    .dataframe thead th {\n",
       "        text-align: right;\n",
       "    }\n",
       "</style>\n",
       "<table border=\"1\" class=\"dataframe\">\n",
       "  <thead>\n",
       "    <tr style=\"text-align: right;\">\n",
       "      <th></th>\n",
       "      <th>GROUP</th>\n",
       "      <th>SKILL</th>\n",
       "      <th>QUALITY</th>\n",
       "      <th>PLEASANTNESS</th>\n",
       "    </tr>\n",
       "  </thead>\n",
       "  <tbody>\n",
       "    <tr>\n",
       "      <td>1</td>\n",
       "      <td>audiovisual</td>\n",
       "      <td>40</td>\n",
       "      <td>30</td>\n",
       "      <td>80</td>\n",
       "    </tr>\n",
       "    <tr>\n",
       "      <td>22</td>\n",
       "      <td>audiovisual</td>\n",
       "      <td>40</td>\n",
       "      <td>30</td>\n",
       "      <td>75</td>\n",
       "    </tr>\n",
       "    <tr>\n",
       "      <td>29</td>\n",
       "      <td>audiovisual</td>\n",
       "      <td>50</td>\n",
       "      <td>30</td>\n",
       "      <td>70</td>\n",
       "    </tr>\n",
       "    <tr>\n",
       "      <td>32</td>\n",
       "      <td>audiovisual</td>\n",
       "      <td>60</td>\n",
       "      <td>30</td>\n",
       "      <td>70</td>\n",
       "    </tr>\n",
       "    <tr>\n",
       "      <td>39</td>\n",
       "      <td>audiovisual</td>\n",
       "      <td>60</td>\n",
       "      <td>30</td>\n",
       "      <td>60</td>\n",
       "    </tr>\n",
       "  </tbody>\n",
       "</table>\n",
       "</div>"
      ],
      "text/plain": [
       "          GROUP  SKILL  QUALITY  PLEASANTNESS\n",
       "1   audiovisual     40       30            80\n",
       "22  audiovisual     40       30            75\n",
       "29  audiovisual     50       30            70\n",
       "32  audiovisual     60       30            70\n",
       "39  audiovisual     60       30            60"
      ]
     },
     "execution_count": 27,
     "metadata": {},
     "output_type": "execute_result"
    }
   ],
   "source": [
    "# Locate only rows with specific value:\n",
    "df.loc[df['QUALITY']==30]"
   ]
  },
  {
   "cell_type": "markdown",
   "metadata": {},
   "source": [
    "To get basic statistics for numerical data in df, like:\n",
    "number of elements, mean, standard deviation, \n",
    "min and max value, \n",
    "as well as 25%, 50% and 75% quartiles, use:"
   ]
  },
  {
   "cell_type": "code",
   "execution_count": 10,
   "metadata": {},
   "outputs": [
    {
     "data": {
      "text/html": [
       "<div>\n",
       "<style scoped>\n",
       "    .dataframe tbody tr th:only-of-type {\n",
       "        vertical-align: middle;\n",
       "    }\n",
       "\n",
       "    .dataframe tbody tr th {\n",
       "        vertical-align: top;\n",
       "    }\n",
       "\n",
       "    .dataframe thead th {\n",
       "        text-align: right;\n",
       "    }\n",
       "</style>\n",
       "<table border=\"1\" class=\"dataframe\">\n",
       "  <thead>\n",
       "    <tr style=\"text-align: right;\">\n",
       "      <th></th>\n",
       "      <th>SKILL</th>\n",
       "      <th>QUALITY</th>\n",
       "      <th>PLEASANTNESS</th>\n",
       "    </tr>\n",
       "  </thead>\n",
       "  <tbody>\n",
       "    <tr>\n",
       "      <td>count</td>\n",
       "      <td>41.000000</td>\n",
       "      <td>41.000000</td>\n",
       "      <td>41.000000</td>\n",
       "    </tr>\n",
       "    <tr>\n",
       "      <td>mean</td>\n",
       "      <td>70.682927</td>\n",
       "      <td>46.926829</td>\n",
       "      <td>65.243902</td>\n",
       "    </tr>\n",
       "    <tr>\n",
       "      <td>std</td>\n",
       "      <td>18.913539</td>\n",
       "      <td>24.764279</td>\n",
       "      <td>22.429646</td>\n",
       "    </tr>\n",
       "    <tr>\n",
       "      <td>min</td>\n",
       "      <td>30.000000</td>\n",
       "      <td>0.000000</td>\n",
       "      <td>11.000000</td>\n",
       "    </tr>\n",
       "    <tr>\n",
       "      <td>25%</td>\n",
       "      <td>59.000000</td>\n",
       "      <td>30.000000</td>\n",
       "      <td>51.000000</td>\n",
       "    </tr>\n",
       "    <tr>\n",
       "      <td>50%</td>\n",
       "      <td>71.000000</td>\n",
       "      <td>40.000000</td>\n",
       "      <td>70.000000</td>\n",
       "    </tr>\n",
       "    <tr>\n",
       "      <td>75%</td>\n",
       "      <td>85.000000</td>\n",
       "      <td>64.000000</td>\n",
       "      <td>83.000000</td>\n",
       "    </tr>\n",
       "    <tr>\n",
       "      <td>max</td>\n",
       "      <td>100.000000</td>\n",
       "      <td>100.000000</td>\n",
       "      <td>97.000000</td>\n",
       "    </tr>\n",
       "  </tbody>\n",
       "</table>\n",
       "</div>"
      ],
      "text/plain": [
       "            SKILL     QUALITY  PLEASANTNESS\n",
       "count   41.000000   41.000000     41.000000\n",
       "mean    70.682927   46.926829     65.243902\n",
       "std     18.913539   24.764279     22.429646\n",
       "min     30.000000    0.000000     11.000000\n",
       "25%     59.000000   30.000000     51.000000\n",
       "50%     71.000000   40.000000     70.000000\n",
       "75%     85.000000   64.000000     83.000000\n",
       "max    100.000000  100.000000     97.000000"
      ]
     },
     "execution_count": 10,
     "metadata": {},
     "output_type": "execute_result"
    }
   ],
   "source": [
    "df.describe()"
   ]
  },
  {
   "cell_type": "code",
   "execution_count": 25,
   "metadata": {},
   "outputs": [],
   "source": [
    "dfs=df.sort_values('GROUP')\n",
    "#dfs\n"
   ]
  },
  {
   "cell_type": "code",
   "execution_count": 21,
   "metadata": {},
   "outputs": [],
   "source": [
    "dfs=df.sort_values(['GROUP','SKILL'])\n",
    "\n",
    "#dfs"
   ]
  },
  {
   "cell_type": "code",
   "execution_count": 12,
   "metadata": {},
   "outputs": [],
   "source": [
    "# df.sort_values(['GROUP','SKILL'], ascending=False)"
   ]
  },
  {
   "cell_type": "code",
   "execution_count": 13,
   "metadata": {},
   "outputs": [],
   "source": [
    "# df.sort_values(['GROUP','SKILL'], ascending=[True,False])"
   ]
  },
  {
   "cell_type": "markdown",
   "metadata": {},
   "source": [
    "dfs['Total']= dfs['SKILL']+dfs['QUALITY']+dfs['PLEASANTNESS']\n",
    "dfs"
   ]
  },
  {
   "cell_type": "markdown",
   "metadata": {},
   "source": [
    "\n",
    "Alternative way to make total:\n",
    "    Use iloc to locate rows and columns (from the first to include, to the first NOT TO INCLUDE); and\n",
    "    Call function sum(axis) to find total\n",
    "    \taxis=1 sums rows, \n",
    "    \taxis=0 sums columns.    \n",
    "    "
   ]
  },
  {
   "cell_type": "code",
   "execution_count": 22,
   "metadata": {},
   "outputs": [],
   "source": [
    "dfs['Total']=dfs.iloc[:,1:4].sum(axis=1)\n",
    "#dfs"
   ]
  },
  {
   "cell_type": "code",
   "execution_count": null,
   "metadata": {},
   "outputs": [],
   "source": [
    "dfs['Total']=dfs.iloc[:,1:4].sum(axis=1)\n",
    "dfs"
   ]
  },
  {
   "cell_type": "code",
   "execution_count": 23,
   "metadata": {},
   "outputs": [],
   "source": [
    "#dfs.sort_values(['GROUP','Total'])"
   ]
  },
  {
   "cell_type": "markdown",
   "metadata": {},
   "source": [
    "To drop ome columsns, use:\n",
    "    "
   ]
  },
  {
   "cell_type": "code",
   "execution_count": 24,
   "metadata": {},
   "outputs": [],
   "source": [
    "df_shortened=dfs.drop(columns=['SKILL','QUALITY'])\n",
    "#df_shortened"
   ]
  },
  {
   "cell_type": "markdown",
   "metadata": {},
   "source": [
    "to export modified Dataframe, use:"
   ]
  },
  {
   "cell_type": "code",
   "execution_count": 16,
   "metadata": {},
   "outputs": [],
   "source": [
    "dfs.to_csv('modified.csv')"
   ]
  },
  {
   "cell_type": "raw",
   "metadata": {},
   "source": [
    "\n",
    "        Once you have the data, proceed to plot pairs of histograms comparing the distribution of ratings (SKILL, QUALITY, AND\n",
    "PLEASURE) for the two groups.\n",
    "\n",
    "(a) Does the data seem to be symmetrically distributed? \n",
    "\n",
    "(b) Does the data points spread out in a similar way across groups and\n",
    "    rating scales?\n",
    "    \n",
    "(c) Calculate the means and medians."
   ]
  },
  {
   "cell_type": "code",
   "execution_count": 75,
   "metadata": {},
   "outputs": [],
   "source": []
  },
  {
   "cell_type": "markdown",
   "metadata": {},
   "source": [
    "In addition to looking at the distribution of data, it is often useful to check how variables relate to one another, how they correlate. In this case, we would for instance be intersted to see if the ratings between groups have a linear correlation. This is easily done with a scatter plot.\n",
    "   "
   ]
  },
  {
   "cell_type": "code",
   "execution_count": null,
   "metadata": {},
   "outputs": [],
   "source": [
    "#plot ratings of audio group vs. those of audiovisual group"
   ]
  },
  {
   "cell_type": "markdown",
   "metadata": {},
   "source": [
    "Now your turn! Plot the ratings for each group and scale against the ratings of another group for the same scale\n"
   ]
  },
  {
   "cell_type": "code",
   "execution_count": null,
   "metadata": {},
   "outputs": [],
   "source": [
    "#Modify the code above to do this"
   ]
  },
  {
   "cell_type": "code",
   "execution_count": 20,
   "metadata": {},
   "outputs": [
    {
     "data": {
      "text/html": [
       "<div>\n",
       "<style scoped>\n",
       "    .dataframe tbody tr th:only-of-type {\n",
       "        vertical-align: middle;\n",
       "    }\n",
       "\n",
       "    .dataframe tbody tr th {\n",
       "        vertical-align: top;\n",
       "    }\n",
       "\n",
       "    .dataframe thead th {\n",
       "        text-align: right;\n",
       "    }\n",
       "</style>\n",
       "<table border=\"1\" class=\"dataframe\">\n",
       "  <thead>\n",
       "    <tr style=\"text-align: right;\">\n",
       "      <th></th>\n",
       "      <th>s_1</th>\n",
       "      <th>skill</th>\n",
       "      <th>quality</th>\n",
       "      <th>pleasant</th>\n",
       "      <th>s_2</th>\n",
       "      <th>s_3</th>\n",
       "      <th>s_4</th>\n",
       "      <th>s_5</th>\n",
       "      <th>stato_1</th>\n",
       "      <th>stato_2</th>\n",
       "      <th>stato_3</th>\n",
       "      <th>stato_4</th>\n",
       "      <th>stato_5</th>\n",
       "    </tr>\n",
       "  </thead>\n",
       "  <tbody>\n",
       "    <tr>\n",
       "      <td>0</td>\n",
       "      <td>2.0</td>\n",
       "      <td>80.0</td>\n",
       "      <td>70.0</td>\n",
       "      <td>70.0</td>\n",
       "      <td>100.0</td>\n",
       "      <td>100.0</td>\n",
       "      <td>It was nice and and on ice</td>\n",
       "      <td>Can you tell the difference between a real ins...</td>\n",
       "      <td>0</td>\n",
       "      <td>0</td>\n",
       "      <td>0</td>\n",
       "      <td>1</td>\n",
       "      <td>0</td>\n",
       "    </tr>\n",
       "    <tr>\n",
       "      <td>1</td>\n",
       "      <td>1.0</td>\n",
       "      <td>96.0</td>\n",
       "      <td>29.0</td>\n",
       "      <td>78.0</td>\n",
       "      <td>0.0</td>\n",
       "      <td>4.0</td>\n",
       "      <td>It sounded like an old theme melody for a dani...</td>\n",
       "      <td>What feelings the music provoked.</td>\n",
       "      <td>0</td>\n",
       "      <td>0</td>\n",
       "      <td>0</td>\n",
       "      <td>1</td>\n",
       "      <td>0</td>\n",
       "    </tr>\n",
       "    <tr>\n",
       "      <td>2</td>\n",
       "      <td>1.0</td>\n",
       "      <td>75.0</td>\n",
       "      <td>20.0</td>\n",
       "      <td>33.0</td>\n",
       "      <td>50.0</td>\n",
       "      <td>85.0</td>\n",
       "      <td>Sounded like one guy somehow playing all instr...</td>\n",
       "      <td>Listening with you eyes closed make music soun...</td>\n",
       "      <td>0</td>\n",
       "      <td>0</td>\n",
       "      <td>0</td>\n",
       "      <td>1</td>\n",
       "      <td>0</td>\n",
       "    </tr>\n",
       "    <tr>\n",
       "      <td>3</td>\n",
       "      <td>NaN</td>\n",
       "      <td>NaN</td>\n",
       "      <td>NaN</td>\n",
       "      <td>NaN</td>\n",
       "      <td>NaN</td>\n",
       "      <td>NaN</td>\n",
       "      <td>NaN</td>\n",
       "      <td>NaN</td>\n",
       "      <td>0</td>\n",
       "      <td>1</td>\n",
       "      <td>0</td>\n",
       "      <td>0</td>\n",
       "      <td>0</td>\n",
       "    </tr>\n",
       "    <tr>\n",
       "      <td>4</td>\n",
       "      <td>2.0</td>\n",
       "      <td>77.0</td>\n",
       "      <td>72.0</td>\n",
       "      <td>65.0</td>\n",
       "      <td>29.0</td>\n",
       "      <td>10.0</td>\n",
       "      <td>very calming, sophisticated, simple but atmosp...</td>\n",
       "      <td>Does IcE sound good?</td>\n",
       "      <td>0</td>\n",
       "      <td>0</td>\n",
       "      <td>0</td>\n",
       "      <td>1</td>\n",
       "      <td>0</td>\n",
       "    </tr>\n",
       "    <tr>\n",
       "      <td>...</td>\n",
       "      <td>...</td>\n",
       "      <td>...</td>\n",
       "      <td>...</td>\n",
       "      <td>...</td>\n",
       "      <td>...</td>\n",
       "      <td>...</td>\n",
       "      <td>...</td>\n",
       "      <td>...</td>\n",
       "      <td>...</td>\n",
       "      <td>...</td>\n",
       "      <td>...</td>\n",
       "      <td>...</td>\n",
       "      <td>...</td>\n",
       "    </tr>\n",
       "    <tr>\n",
       "      <td>57</td>\n",
       "      <td>1.0</td>\n",
       "      <td>58.0</td>\n",
       "      <td>28.0</td>\n",
       "      <td>50.0</td>\n",
       "      <td>50.0</td>\n",
       "      <td>25.0</td>\n",
       "      <td>Solemn.</td>\n",
       "      <td>Whether impression was altered by quality of s...</td>\n",
       "      <td>0</td>\n",
       "      <td>0</td>\n",
       "      <td>0</td>\n",
       "      <td>1</td>\n",
       "      <td>0</td>\n",
       "    </tr>\n",
       "    <tr>\n",
       "      <td>58</td>\n",
       "      <td>2.0</td>\n",
       "      <td>90.0</td>\n",
       "      <td>58.0</td>\n",
       "      <td>69.0</td>\n",
       "      <td>20.0</td>\n",
       "      <td>55.0</td>\n",
       "      <td>It was very nice. Would've preferred listening...</td>\n",
       "      <td>Do people with closed eyes know   what instrum...</td>\n",
       "      <td>0</td>\n",
       "      <td>0</td>\n",
       "      <td>0</td>\n",
       "      <td>1</td>\n",
       "      <td>0</td>\n",
       "    </tr>\n",
       "    <tr>\n",
       "      <td>59</td>\n",
       "      <td>NaN</td>\n",
       "      <td>NaN</td>\n",
       "      <td>NaN</td>\n",
       "      <td>NaN</td>\n",
       "      <td>NaN</td>\n",
       "      <td>NaN</td>\n",
       "      <td>NaN</td>\n",
       "      <td>NaN</td>\n",
       "      <td>0</td>\n",
       "      <td>1</td>\n",
       "      <td>0</td>\n",
       "      <td>0</td>\n",
       "      <td>0</td>\n",
       "    </tr>\n",
       "    <tr>\n",
       "      <td>60</td>\n",
       "      <td>2.0</td>\n",
       "      <td>75.0</td>\n",
       "      <td>68.0</td>\n",
       "      <td>80.0</td>\n",
       "      <td>75.0</td>\n",
       "      <td>45.0</td>\n",
       "      <td>calm relaxing. Likable. Many strings</td>\n",
       "      <td>How many instrument were active during the music?</td>\n",
       "      <td>0</td>\n",
       "      <td>0</td>\n",
       "      <td>0</td>\n",
       "      <td>1</td>\n",
       "      <td>0</td>\n",
       "    </tr>\n",
       "    <tr>\n",
       "      <td>61</td>\n",
       "      <td>2.0</td>\n",
       "      <td>85.0</td>\n",
       "      <td>19.0</td>\n",
       "      <td>10.0</td>\n",
       "      <td>55.0</td>\n",
       "      <td>64.0</td>\n",
       "      <td>Crazy that you can make instruments of ice</td>\n",
       "      <td>Dunno</td>\n",
       "      <td>0</td>\n",
       "      <td>0</td>\n",
       "      <td>0</td>\n",
       "      <td>1</td>\n",
       "      <td>0</td>\n",
       "    </tr>\n",
       "  </tbody>\n",
       "</table>\n",
       "<p>62 rows × 13 columns</p>\n",
       "</div>"
      ],
      "text/plain": [
       "    s_1  skill  quality  pleasant    s_2    s_3  \\\n",
       "0   2.0   80.0     70.0      70.0  100.0  100.0   \n",
       "1   1.0   96.0     29.0      78.0    0.0    4.0   \n",
       "2   1.0   75.0     20.0      33.0   50.0   85.0   \n",
       "3   NaN    NaN      NaN       NaN    NaN    NaN   \n",
       "4   2.0   77.0     72.0      65.0   29.0   10.0   \n",
       "..  ...    ...      ...       ...    ...    ...   \n",
       "57  1.0   58.0     28.0      50.0   50.0   25.0   \n",
       "58  2.0   90.0     58.0      69.0   20.0   55.0   \n",
       "59  NaN    NaN      NaN       NaN    NaN    NaN   \n",
       "60  2.0   75.0     68.0      80.0   75.0   45.0   \n",
       "61  2.0   85.0     19.0      10.0   55.0   64.0   \n",
       "\n",
       "                                                  s_4  \\\n",
       "0                          It was nice and and on ice   \n",
       "1   It sounded like an old theme melody for a dani...   \n",
       "2   Sounded like one guy somehow playing all instr...   \n",
       "3                                                 NaN   \n",
       "4   very calming, sophisticated, simple but atmosp...   \n",
       "..                                                ...   \n",
       "57                                            Solemn.   \n",
       "58  It was very nice. Would've preferred listening...   \n",
       "59                                                NaN   \n",
       "60               calm relaxing. Likable. Many strings   \n",
       "61         Crazy that you can make instruments of ice   \n",
       "\n",
       "                                                  s_5  stato_1  stato_2  \\\n",
       "0   Can you tell the difference between a real ins...        0        0   \n",
       "1                   What feelings the music provoked.        0        0   \n",
       "2   Listening with you eyes closed make music soun...        0        0   \n",
       "3                                                 NaN        0        1   \n",
       "4                                Does IcE sound good?        0        0   \n",
       "..                                                ...      ...      ...   \n",
       "57  Whether impression was altered by quality of s...        0        0   \n",
       "58  Do people with closed eyes know   what instrum...        0        0   \n",
       "59                                                NaN        0        1   \n",
       "60  How many instrument were active during the music?        0        0   \n",
       "61                                              Dunno        0        0   \n",
       "\n",
       "    stato_3  stato_4  stato_5  \n",
       "0         0        1        0  \n",
       "1         0        1        0  \n",
       "2         0        1        0  \n",
       "3         0        0        0  \n",
       "4         0        1        0  \n",
       "..      ...      ...      ...  \n",
       "57        0        1        0  \n",
       "58        0        1        0  \n",
       "59        0        0        0  \n",
       "60        0        1        0  \n",
       "61        0        1        0  \n",
       "\n",
       "[62 rows x 13 columns]"
      ]
     },
     "execution_count": 20,
     "metadata": {},
     "output_type": "execute_result"
    }
   ],
   "source": [
    "# we shoud read our new Excel datafile:\n",
    "# I have chosen name dl, to stand for \"Data Listening\"\n",
    "dl = pd.read_excel('Icemusic-ratings.xlsx', sheet_name='Dataset')  \n",
    "\n",
    "dl"
   ]
  },
  {
   "cell_type": "code",
   "execution_count": null,
   "metadata": {},
   "outputs": [],
   "source": []
  }
 ],
 "metadata": {
  "kernelspec": {
   "display_name": "Python 3",
   "language": "python",
   "name": "python3"
  },
  "language_info": {
   "codemirror_mode": {
    "name": "ipython",
    "version": 3
   },
   "file_extension": ".py",
   "mimetype": "text/x-python",
   "name": "python",
   "nbconvert_exporter": "python",
   "pygments_lexer": "ipython3",
   "version": "3.7.4"
  }
 },
 "nbformat": 4,
 "nbformat_minor": 4
}
